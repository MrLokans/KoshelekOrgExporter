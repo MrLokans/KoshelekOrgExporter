{
 "cells": [
  {
   "cell_type": "code",
   "execution_count": null,
   "metadata": {
    "collapsed": false,
    "deletable": true,
    "editable": true
   },
   "outputs": [],
   "source": [
    "%matplotlib inline\n",
    "\n",
    "import numpy as np\n",
    "import matplotlib.pyplot as pl\n",
    "import seaborn as sns\n",
    "\n",
    "import pandas as pd\n",
    "\n",
    "DATE_FORMAT = '%d.%m.%Y'\n",
    "\n",
    "INCOME_FILE = 'all_incomes.csv'\n",
    "SPENDING_FILE = 'all_costs.csv'\n",
    "\n",
    "ALLOWED_INCOME_ACCOUNTS = '', ''"
   ]
  },
  {
   "cell_type": "code",
   "execution_count": null,
   "metadata": {
    "collapsed": false,
    "deletable": true,
    "editable": true
   },
   "outputs": [],
   "source": [
    "def clean_up_df(df):\n",
    "    del df['Description']\n",
    "    del df['Budget']\n",
    "    df['Title'].fillna(value='', inplace=True)\n",
    "    df['Category'].fillna(value='', inplace=True)\n",
    "    df['Date'] = pd.to_datetime(df['Date'], format=DATE_FORMAT)\n",
    "    df.index = df['Date']\n",
    "    del df['Date']\n",
    "\n",
    "    \n",
    "incomes_df = pd.read_csv(INCOME_FILE, sep='|')\n",
    "costs_df = pd.read_csv(SPENDING_FILE, sep='|')\n",
    "\n",
    "\n",
    "clean_up_df(incomes_df)\n",
    "clean_up_df(costs_df)"
   ]
  },
  {
   "cell_type": "code",
   "execution_count": null,
   "metadata": {
    "collapsed": false,
    "deletable": true,
    "editable": true
   },
   "outputs": [],
   "source": [
    "def filter_df(df):\n",
    "    currency_filter = df['Currency'] == 'Руб'\n",
    "    account_filter = (df['Account'] == ALLOWED_INCOME_ACCOUNTS[0]) | (df['Account'] == ALLOWED_INCOME_ACCOUNTS[1])\n",
    "    return df[currency_filter & account_filter]\n",
    "\n",
    "rouble_incomes = filter_df(incomes_df)\n",
    "rouble_spendings = filter_df(costs_df)\n",
    "\n",
    "month_incomes = rouble_incomes.groupby(pd.TimeGrouper(freq='M'))\n",
    "month_spendings = rouble_spendings.groupby(pd.TimeGrouper(freq='M'))\n",
    "\n",
    "profit_per_month = month_incomes['Sum'].sum().fillna(0.0) - month_spendings['Sum'].sum().fillna(0.0)\n",
    "profit_per_month.plot(kind='barh')\n",
    "# - rouble_spendings.groupby(pd.TimeGrouper(freq='6M')).sum()\n",
    "# sums.plot(kind='barh')"
   ]
  },
  {
   "cell_type": "code",
   "execution_count": null,
   "metadata": {
    "collapsed": false,
    "deletable": true,
    "editable": true
   },
   "outputs": [],
   "source": []
  },
  {
   "cell_type": "code",
   "execution_count": null,
   "metadata": {
    "collapsed": true,
    "deletable": true,
    "editable": true
   },
   "outputs": [],
   "source": []
  }
 ],
 "metadata": {
  "kernelspec": {
   "display_name": "Python 3",
   "language": "python",
   "name": "python3"
  },
  "language_info": {
   "codemirror_mode": {
    "name": "ipython",
    "version": 3
   },
   "file_extension": ".py",
   "mimetype": "text/x-python",
   "name": "python",
   "nbconvert_exporter": "python",
   "pygments_lexer": "ipython3",
   "version": "3.6.0"
  }
 },
 "nbformat": 4,
 "nbformat_minor": 0
}
